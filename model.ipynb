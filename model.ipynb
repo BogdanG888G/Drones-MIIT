{
 "cells": [
  {
   "cell_type": "markdown",
   "id": "af9efbd4",
   "metadata": {},
   "source": [
    "# Конвертация данных из сервиса [DOTA](https://captain-whu.github.io/DOTA/) в формат для обусения модели YOLO"
   ]
  },
  {
   "cell_type": "code",
   "execution_count": null,
   "id": "232a587b",
   "metadata": {},
   "outputs": [
    {
     "name": "stdout",
     "output_type": "stream",
     "text": [
      "Converted dataset/labels/train/P0000.txt\n",
      "Converted dataset/labels/train/P0001.txt\n",
      "Converted dataset/labels/train/P0002.txt\n",
      "Converted dataset/labels/train/P0005.txt\n",
      "Converted dataset/labels/train/P0008.txt\n",
      "Converted dataset/labels/train/P0010.txt\n",
      "Converted dataset/labels/train/P0011.txt\n"
     ]
    }
   ],
   "source": [
    "import os\n",
    "from PIL import Image\n",
    "\n",
    "def convert_dota_to_yolo(dota_annotation_path, image_path, output_path):\n",
    "    # Читаем DOTA аннотацию\n",
    "    with open(dota_annotation_path, 'r') as f:\n",
    "        lines = f.readlines()\n",
    "    \n",
    "    # Пропускаем первые две строки (imagesource и gsd)\n",
    "    annotations = lines[2:]\n",
    "    \n",
    "    # Получаем размеры изображения\n",
    "    with Image.open(image_path) as img:\n",
    "        img_width, img_height = img.size\n",
    "    \n",
    "    # Преобразуем каждую аннотацию\n",
    "    yolo_annotations = []\n",
    "    for ann in annotations:\n",
    "        parts = ann.strip().split()\n",
    "        if len(parts) < 9:\n",
    "            continue\n",
    "            \n",
    "        # Координаты полигона (8 значений)\n",
    "        poly = list(map(float, parts[:8]))\n",
    "        class_name = parts[8]\n",
    "        \n",
    "        # Преобразуем полигон в bounding box\n",
    "        x_coords = poly[0::2]\n",
    "        y_coords = poly[1::2]\n",
    "        x_min, x_max = min(x_coords), max(x_coords)\n",
    "        y_min, y_max = min(y_coords), max(y_coords)\n",
    "        \n",
    "        # Конвертируем в YOLO формат (нормализованные координаты)\n",
    "        center_x = (x_min + x_max) / 2 / img_width\n",
    "        center_y = (y_min + y_max) / 2 / img_height\n",
    "        width = (x_max - x_min) / img_width\n",
    "        height = (y_max - y_min) / img_height\n",
    "        \n",
    "        # Определяем class_id (у нас пока только small-vehicle)\n",
    "        class_id = 0  # small-vehicle\n",
    "        \n",
    "        yolo_annotations.append(f\"{class_id} {center_x:.6f} {center_y:.6f} {width:.6f} {height:.6f}\")\n",
    "    \n",
    "    # Сохраняем YOLO аннотации\n",
    "    with open(output_path, 'w') as f:\n",
    "        f.write('\\n'.join(yolo_annotations))\n",
    "\n",
    "# Преобразуем все аннотации\n",
    "for split in ['train']:\n",
    "    image_dir = f\"dataset/images/{split}\"\n",
    "    label_dir = f\"dataset/labels/{split}\"\n",
    "    \n",
    "    for img_file in os.listdir(image_dir):\n",
    "        if img_file.endswith(('.jpg', '.png', '.jpeg')):\n",
    "            base_name = os.path.splitext(img_file)[0]\n",
    "            dota_annotation_path = f\"{label_dir}/{base_name}.txt\"\n",
    "            image_path = f\"{image_dir}/{img_file}\"\n",
    "            yolo_output_path = f\"{label_dir}/{base_name}.txt\"  # перезаписываем\n",
    "            \n",
    "            if os.path.exists(dota_annotation_path):\n",
    "                convert_dota_to_yolo(dota_annotation_path, image_path, yolo_output_path)\n",
    "                print(f\"Converted {dota_annotation_path}\")"
   ]
  },
  {
   "cell_type": "markdown",
   "id": "38cc79ce",
   "metadata": {},
   "source": [
    "# Обучение нашей елочки"
   ]
  },
  {
   "cell_type": "code",
   "execution_count": 26,
   "id": "5b478f85",
   "metadata": {},
   "outputs": [
    {
     "name": "stdout",
     "output_type": "stream",
     "text": [
      "Ultralytics 8.3.200  Python-3.11.5 torch-2.8.0+cpu CPU (11th Gen Intel Core i5-1135G7 @ 2.40GHz)\n",
      "\u001b[34m\u001b[1mengine\\trainer: \u001b[0magnostic_nms=False, amp=True, augment=True, auto_augment=randaugment, batch=2, bgr=0.0, box=7.5, cache=False, cfg=None, classes=None, close_mosaic=10, cls=0.5, compile=False, conf=None, copy_paste=0.0, copy_paste_mode=flip, cos_lr=False, cutmix=0.0, data=data.yml, degrees=10.0, deterministic=True, device=cpu, dfl=1.5, dnn=False, dropout=0.0, dynamic=False, embed=None, epochs=1, erasing=0.4, exist_ok=False, fliplr=0.5, flipud=0.0, format=torchscript, fraction=1.0, freeze=None, half=False, hsv_h=0.015, hsv_s=0.7, hsv_v=0.4, imgsz=640, int8=False, iou=0.7, keras=False, kobj=1.0, line_width=None, lr0=0.01, lrf=0.1, mask_ratio=4, max_det=300, mixup=0.0, mode=train, model=yolo11n.pt, momentum=0.937, mosaic=1.0, multi_scale=False, name=small_dataset_test, nbs=64, nms=False, opset=None, optimize=False, optimizer=auto, overlap_mask=True, patience=10, perspective=0.0, plots=True, pose=12.0, pretrained=True, profile=False, project=C:/Users/Smart/PycharmProjects/Data_analysis/Drones, rect=False, resume=False, retina_masks=False, save=True, save_conf=False, save_crop=False, save_dir=C:\\Users\\Smart\\PycharmProjects\\Data_analysis\\Drones\\small_dataset_test, save_frames=False, save_json=False, save_period=-1, save_txt=False, scale=0.2, seed=0, shear=0.0, show=False, show_boxes=True, show_conf=True, show_labels=True, simplify=True, single_cls=False, source=None, split=val, stream_buffer=False, task=detect, time=None, tracker=botsort.yaml, translate=0.1, val=True, verbose=True, vid_stride=1, visualize=False, warmup_bias_lr=0.1, warmup_epochs=3.0, warmup_momentum=0.8, weight_decay=0.0005, workers=8, workspace=None\n",
      "Overriding model.yaml nc=80 with nc=1\n",
      "\n",
      "                   from  n    params  module                                       arguments                     \n",
      "  0                  -1  1       464  ultralytics.nn.modules.conv.Conv             [3, 16, 3, 2]                 \n",
      "  1                  -1  1      4672  ultralytics.nn.modules.conv.Conv             [16, 32, 3, 2]                \n",
      "  2                  -1  1      6640  ultralytics.nn.modules.block.C3k2            [32, 64, 1, False, 0.25]      \n",
      "  3                  -1  1     36992  ultralytics.nn.modules.conv.Conv             [64, 64, 3, 2]                \n",
      "  4                  -1  1     26080  ultralytics.nn.modules.block.C3k2            [64, 128, 1, False, 0.25]     \n",
      "  5                  -1  1    147712  ultralytics.nn.modules.conv.Conv             [128, 128, 3, 2]              \n",
      "  6                  -1  1     87040  ultralytics.nn.modules.block.C3k2            [128, 128, 1, True]           \n",
      "  7                  -1  1    295424  ultralytics.nn.modules.conv.Conv             [128, 256, 3, 2]              \n",
      "  8                  -1  1    346112  ultralytics.nn.modules.block.C3k2            [256, 256, 1, True]           \n",
      "  9                  -1  1    164608  ultralytics.nn.modules.block.SPPF            [256, 256, 5]                 \n",
      " 10                  -1  1    249728  ultralytics.nn.modules.block.C2PSA           [256, 256, 1]                 \n",
      " 11                  -1  1         0  torch.nn.modules.upsampling.Upsample         [None, 2, 'nearest']          \n",
      " 12             [-1, 6]  1         0  ultralytics.nn.modules.conv.Concat           [1]                           \n",
      " 13                  -1  1    111296  ultralytics.nn.modules.block.C3k2            [384, 128, 1, False]          \n",
      " 14                  -1  1         0  torch.nn.modules.upsampling.Upsample         [None, 2, 'nearest']          \n",
      " 15             [-1, 4]  1         0  ultralytics.nn.modules.conv.Concat           [1]                           \n",
      " 16                  -1  1     32096  ultralytics.nn.modules.block.C3k2            [256, 64, 1, False]           \n",
      " 17                  -1  1     36992  ultralytics.nn.modules.conv.Conv             [64, 64, 3, 2]                \n",
      " 18            [-1, 13]  1         0  ultralytics.nn.modules.conv.Concat           [1]                           \n",
      " 19                  -1  1     86720  ultralytics.nn.modules.block.C3k2            [192, 128, 1, False]          \n",
      " 20                  -1  1    147712  ultralytics.nn.modules.conv.Conv             [128, 128, 3, 2]              \n",
      " 21            [-1, 10]  1         0  ultralytics.nn.modules.conv.Concat           [1]                           \n",
      " 22                  -1  1    378880  ultralytics.nn.modules.block.C3k2            [384, 256, 1, True]           \n",
      " 23        [16, 19, 22]  1    430867  ultralytics.nn.modules.head.Detect           [1, [64, 128, 256]]           \n",
      "YOLO11n summary: 181 layers, 2,590,035 parameters, 2,590,019 gradients, 6.4 GFLOPs\n",
      "\n",
      "Transferred 448/499 items from pretrained weights\n",
      "Freezing layer 'model.23.dfl.conv.weight'\n",
      "\u001b[34m\u001b[1mtrain: \u001b[0mFast image access  (ping: 9.312.2 ms, read: 129.376.4 MB/s, size: 9249.6 KB)\n",
      "\u001b[K\u001b[34m\u001b[1mtrain: \u001b[0mScanning C:\\Users\\Smart\\PycharmProjects\\Data_analysis\\Drones\\dataset\\labels\\train.cache... 7 images, 0 backgrounds, 0 corrupt: 100% ━━━━━━━━━━━━ 7/7 449.0it/s 0.0s\n",
      "WARNING \u001b[34m\u001b[1mval: \u001b[0mSlow image access detected (ping: 17.228.5 ms, read: 79.854.5 MB/s, size: 5912.6 KB). Use local storage instead of remote/mounted storage for better performance. See https://docs.ultralytics.com/guides/model-training-tips/\n",
      "\u001b[K\u001b[34m\u001b[1mval: \u001b[0mScanning C:\\Users\\Smart\\PycharmProjects\\Data_analysis\\Drones\\dataset\\labels\\val.cache... 7 images, 0 backgrounds, 0 corrupt: 100% ━━━━━━━━━━━━ 7/7 517.6it/s 0.0s\n",
      "Plotting labels to C:\\Users\\Smart\\PycharmProjects\\Data_analysis\\Drones\\small_dataset_test\\labels.jpg... \n",
      "\u001b[34m\u001b[1moptimizer:\u001b[0m 'optimizer=auto' found, ignoring 'lr0=0.01' and 'momentum=0.937' and determining best 'optimizer', 'lr0' and 'momentum' automatically... \n",
      "\u001b[34m\u001b[1moptimizer:\u001b[0m AdamW(lr=0.002, momentum=0.9) with parameter groups 81 weight(decay=0.0), 88 weight(decay=0.0005), 87 bias(decay=0.0)\n",
      "Image sizes 640 train, 640 val\n",
      "Using 0 dataloader workers\n",
      "Logging results to \u001b[1mC:\\Users\\Smart\\PycharmProjects\\Data_analysis\\Drones\\small_dataset_test\u001b[0m\n",
      "Starting training for 1 epochs...\n",
      "\n",
      "      Epoch    GPU_mem   box_loss   cls_loss   dfl_loss  Instances       Size\n",
      "\u001b[K        1/1         0G      2.632       3.53       1.77         90        640: 100% ━━━━━━━━━━━━ 4/4 0.1it/s 27.1s5.5ss\n",
      "\u001b[K                 Class     Images  Instances      Box(P          R      mAP50  mAP50-95): 100% ━━━━━━━━━━━━ 2/2 0.2it/s 8.6s14.9s\n",
      "                   all          7       1067    0.00333    0.00656    0.00172    0.00044\n",
      "\n",
      "1 epochs completed in 0.012 hours.\n",
      "Optimizer stripped from C:\\Users\\Smart\\PycharmProjects\\Data_analysis\\Drones\\small_dataset_test\\weights\\last.pt, 5.5MB\n",
      "Optimizer stripped from C:\\Users\\Smart\\PycharmProjects\\Data_analysis\\Drones\\small_dataset_test\\weights\\best.pt, 5.5MB\n",
      "\n",
      "Validating C:\\Users\\Smart\\PycharmProjects\\Data_analysis\\Drones\\small_dataset_test\\weights\\best.pt...\n",
      "Ultralytics 8.3.200  Python-3.11.5 torch-2.8.0+cpu CPU (11th Gen Intel Core i5-1135G7 @ 2.40GHz)\n",
      "YOLO11n summary (fused): 100 layers, 2,582,347 parameters, 0 gradients, 6.3 GFLOPs\n",
      "\u001b[K                 Class     Images  Instances      Box(P          R      mAP50  mAP50-95): 100% ━━━━━━━━━━━━ 2/2 0.2it/s 9.9s16.8s\n",
      "                   all          7       1067   0.000952    0.00187   0.000481   4.81e-05\n",
      "Speed: 3.6ms preprocess, 1023.3ms inference, 0.0ms loss, 47.1ms postprocess per image\n",
      "Results saved to \u001b[1mC:\\Users\\Smart\\PycharmProjects\\Data_analysis\\Drones\\small_dataset_test\u001b[0m\n"
     ]
    }
   ],
   "source": [
    "from ultralytics import YOLO\n",
    "import torch\n",
    "\n",
    "# Загружаем предобученную модель\n",
    "model = YOLO(\"yolo11n.pt\")\n",
    "\n",
    "results = model.train(\n",
    "    data='data.yml',\n",
    "    epochs=1,\n",
    "    batch=2,    \n",
    "    imgsz=640,\n",
    "    project='C:/Users/Smart/PycharmProjects/Data_analysis/Drones',\n",
    "    device='cpu',\n",
    "    name='small_dataset_test',\n",
    "    patience=10,\n",
    "    save=True,\n",
    "    augment=True,  # Включим аугментацию\n",
    "    degrees=10.0,\n",
    "    translate=0.1,\n",
    "    scale=0.2,\n",
    "    hsv_h=0.015,\n",
    "    hsv_s=0.7,\n",
    "    hsv_v=0.4,\n",
    "    lr0=0.01,\n",
    "    lrf=0.1\n",
    ")"
   ]
  },
  {
   "cell_type": "markdown",
   "id": "8100e242",
   "metadata": {},
   "source": [
    "# Тест модельки"
   ]
  },
  {
   "cell_type": "code",
   "execution_count": 28,
   "id": "31774c99",
   "metadata": {},
   "outputs": [
    {
     "name": "stdout",
     "output_type": "stream",
     "text": [
      "\n",
      "image 1/1 C:\\Users\\Smart\\PycharmProjects\\Data_analysis\\Drones\\dataset\\images\\train\\P0000.png: 640x480 (no detections), 672.8ms\n",
      "Speed: 27.9ms preprocess, 672.8ms inference, 1.3ms postprocess per image at shape (1, 3, 640, 480)\n"
     ]
    }
   ],
   "source": [
    "from ultralytics import YOLO\n",
    "import cv2\n",
    "import os\n",
    "\n",
    "# Загружаем обученную модель\n",
    "model = YOLO('C:\\\\Users\\\\Smart\\\\PycharmProjects\\\\Data_analysis\\\\Drones\\\\small_dataset_test\\\\weights\\\\best.pt')\n",
    "\n",
    "# Тестируем на одном изображении из тренировочного набора\n",
    "test_image_path = \"C:\\\\Users\\\\Smart\\\\PycharmProjects\\\\Data_analysis\\\\Drones\\\\dataset\\\\images\\\\train\\\\P0000.png\"\n",
    "\n",
    "# Делаем предсказание\n",
    "results = model(test_image_path)\n",
    "\n",
    "# Визуализируем результат\n",
    "for result in results:\n",
    "    # Рисуем bounding boxes\n",
    "    result.show()\n",
    "    result.save(\"prediction_result.jpg\")\n",
    "    \n",
    "    # Выводим информацию об обнаруженных объектах\n",
    "    for box in result.boxes:\n",
    "        print(f\"Обнаружен объект: confidence={box.conf[0]:.2f}, class={model.names[int(box.cls[0])]}\")"
   ]
  }
 ],
 "metadata": {
  "kernelspec": {
   "display_name": ".venv",
   "language": "python",
   "name": "python3"
  },
  "language_info": {
   "codemirror_mode": {
    "name": "ipython",
    "version": 3
   },
   "file_extension": ".py",
   "mimetype": "text/x-python",
   "name": "python",
   "nbconvert_exporter": "python",
   "pygments_lexer": "ipython3",
   "version": "3.11.5"
  }
 },
 "nbformat": 4,
 "nbformat_minor": 5
}
